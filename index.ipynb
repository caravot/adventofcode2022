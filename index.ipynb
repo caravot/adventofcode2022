{
 "cells": [
  {
   "cell_type": "code",
   "execution_count": 49,
   "id": "78e47561",
   "metadata": {},
   "outputs": [],
   "source": [
    "import pandas as pd\n",
    "import re\n",
    "import os\n",
    "import numpy as np"
   ]
  },
  {
   "cell_type": "code",
   "execution_count": 59,
   "id": "6ae54979",
   "metadata": {},
   "outputs": [
    {
     "name": "stdout",
     "output_type": "stream",
     "text": [
      "part 1: 15691\n",
      "part 2: 12989\n"
     ]
    }
   ],
   "source": [
    "## Day 2\n",
    "\n",
    "# part 1\n",
    "hands = { \n",
    "    'X': 1, 'A': 1, # rock: > scissor\n",
    "    'Y': 2, 'B': 2, # paper:  > rock\n",
    "    'Z': 3, 'C': 3  # scissor: > paper\n",
    "}\n",
    "win = 6\n",
    "draw = 3\n",
    "loss = 0\n",
    "\n",
    "with open('files/input2.txt') as f:\n",
    "    output = [o.split(' ') for o in f.read().split('\\n')]\n",
    "\n",
    "# a=opponent; b=me\n",
    "def winner(a, b):\n",
    "    if (a == 1 and  b == 3) or (a == 2 and b == 1) or (a == 3 and b == 2):\n",
    "        return loss + b\n",
    "    elif a == b:\n",
    "        return draw + b\n",
    "    else:\n",
    "        return win + b\n",
    "\n",
    "final = list(map(lambda turn: winner(hands[turn[0]], hands[turn[1]]), output))\n",
    "print('part 1:', sum(final))\n",
    "\n",
    "# part 2\n",
    "# x = loss\n",
    "# y = draw\n",
    "# z = win\n",
    "\n",
    "win_hand = {\n",
    "    hands['A']: hands['C'],\n",
    "    hands['B']: hands['A'],\n",
    "    hands['C']: hands['B']\n",
    "}\n",
    "win_hand = {\n",
    "    'A': 'C',\n",
    "    'B': 'A',\n",
    "    'C': 'B'\n",
    "}\n",
    "loss_hand = {\n",
    "    'C': 'A',\n",
    "    'A': 'B',\n",
    "    'B': 'C'\n",
    "}\n",
    "\n",
    "# a=opponent; b=me\n",
    "def winner(opp, result):\n",
    "    # win\n",
    "    if result == 'Z':\n",
    "        return win + hands[loss_hand[opp]]\n",
    "    # draw\n",
    "    elif result == 'Y':\n",
    "        return draw + hands[opp]\n",
    "    # loss\n",
    "    elif result == 'X':\n",
    "        return loss + hands[win_hand[opp]]\n",
    "\n",
    "# 4,1,7\n",
    "\n",
    "final = list(map(lambda turn: winner(turn[0], turn[1]), output))\n",
    "# print('final', final)\n",
    "print('part 2:', sum(final))"
   ]
  },
  {
   "cell_type": "code",
   "execution_count": 10,
   "id": "8b1f4162",
   "metadata": {},
   "outputs": [
    {
     "name": "stdout",
     "output_type": "stream",
     "text": [
      "part 1:  70296\n",
      "part 2:  205381\n"
     ]
    }
   ],
   "source": [
    "## Day 1\n",
    "with open('files/input1.txt') as f:\n",
    "    output = [o.split('\\n') for o in f.read().split('\\n\\n')]\n",
    "\n",
    "# part 1\n",
    "p1 = max([sum([int(o2) for o2 in o if len(o2)]) for o in output])\n",
    "print(\"part 1: \", p1)\n",
    "\n",
    "# part 2\n",
    "p2 = sum(sorted([sum([int(o2) for o2 in o if len(o2)]) for o in output])[-3:])\n",
    "print(\"part 2: \", p2)"
   ]
  },
  {
   "cell_type": "code",
   "execution_count": 121,
   "id": "52e34f50",
   "metadata": {},
   "outputs": [
    {
     "name": "stdout",
     "output_type": "stream",
     "text": [
      "part 1:  8252\n",
      "part 2:  2828\n"
     ]
    }
   ],
   "source": [
    "## Day 3\n",
    "\n",
    "# part 1\n",
    "with open('files/input3.txt') as f:\n",
    "    output = [list(set(o[:len(o)//2]) & set(o[len(o)//2:]))[0] for o in f.read().split('\\n')]\n",
    "value = map(lambda x: ord(x)-96 if x.islower() else ord(x)-64+26, output)\n",
    "print('part 1: ', sum(value))\n",
    "\n",
    "# part 2\n",
    "with open('files/input3.txt') as f:\n",
    "    output = [o for o in f.read().split('\\n')]\n",
    "\n",
    "output = [list(set(g[0]) & set(g[1]) & set(g[2]))[0] for g in np.array_split(output, len(output)/3)]\n",
    "value = map(lambda x: ord(x)-96 if x.islower() else ord(x)-64+26, output)\n",
    "print('part 2: ', sum(value))"
   ]
  },
  {
   "cell_type": "code",
   "execution_count": 143,
   "id": "7e0a63af",
   "metadata": {},
   "outputs": [
    {
     "name": "stdout",
     "output_type": "stream",
     "text": [
      "part 1:  562\n"
     ]
    },
    {
     "data": {
      "text/plain": [
       "924"
      ]
     },
     "execution_count": 143,
     "metadata": {},
     "output_type": "execute_result"
    }
   ],
   "source": [
    "## Day 4\n",
    "\n",
    "# part 1\n",
    "with open('files/input4.txt') as f:\n",
    "    output = [o.split(',') for o in f.read().split('\\n')]\n",
    "\n",
    "total = 0\n",
    "for i in output:\n",
    "    s1 = [int(k) for k in i[0].split('-')]\n",
    "    s2 = [int(k) for k in i[1].split('-')]\n",
    "    r1 = range(s1[0], s1[1] + 1)\n",
    "    r2 = range(s2[0], s2[1] + 1)\n",
    "    if set(r1).issubset(set(r2)) or set(r2).issubset(set(r1)):\n",
    "        total = total + 1\n",
    "\n",
    "print('part 1: ', total)\n",
    "\n",
    "# part 2\n",
    "with open('files/input4.txt') as f:\n",
    "    output = [o.split(',') for o in f.read().split('\\n')]\n",
    "\n",
    "total = 0\n",
    "for i in output:\n",
    "    s1 = [int(k) for k in i[0].split('-')]\n",
    "    s2 = [int(k) for k in i[1].split('-')]\n",
    "    r1 = range(s1[0], s1[1] + 1)\n",
    "    r2 = range(s2[0], s2[1] + 1)\n",
    "#     print(i, list(r1), list(r2))\n",
    "#     print('     ', len(set(r1) & set(r2)))\n",
    "    if len(set(r1) & set(r2)):\n",
    "        total = total + 1\n",
    "\n",
    "# for i in lists:\n",
    "#     print(i, any(i.issubset(e) for e in lists if e != i))\n",
    "#     for k in lists:\n",
    "#         if set(i).issubset(set(k)):\n",
    "#             total = total + 1\n",
    "\n",
    "\n",
    "total"
   ]
  },
  {
   "cell_type": "code",
   "execution_count": null,
   "id": "fe653c20",
   "metadata": {},
   "outputs": [],
   "source": []
  }
 ],
 "metadata": {
  "kernelspec": {
   "display_name": "Python 3 (ipykernel)",
   "language": "python",
   "name": "python3"
  },
  "language_info": {
   "codemirror_mode": {
    "name": "ipython",
    "version": 3
   },
   "file_extension": ".py",
   "mimetype": "text/x-python",
   "name": "python",
   "nbconvert_exporter": "python",
   "pygments_lexer": "ipython3",
   "version": "3.10.8"
  }
 },
 "nbformat": 4,
 "nbformat_minor": 5
}
