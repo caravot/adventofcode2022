{
 "cells": [
  {
   "cell_type": "code",
   "execution_count": 2,
   "id": "78e47561",
   "metadata": {},
   "outputs": [],
   "source": [
    "import pandas as pd\n",
    "import re\n",
    "import os"
   ]
  },
  {
   "cell_type": "code",
   "execution_count": 10,
   "id": "8b1f4162",
   "metadata": {},
   "outputs": [
    {
     "name": "stdout",
     "output_type": "stream",
     "text": [
      "part 1:  70296\n",
      "part 2:  205381\n"
     ]
    }
   ],
   "source": [
    "## Day 1\n",
    "with open('files/input1.txt') as f:\n",
    "    output = [o.split('\\n') for o in f.read().split('\\n\\n')]\n",
    "\n",
    "# part 1\n",
    "p1 = max([sum([int(o2) for o2 in o if len(o2)]) for o in output])\n",
    "print(\"part 1: \", p1)\n",
    "\n",
    "# part 1\n",
    "p2 = sum(sorted([sum([int(o2) for o2 in o if len(o2)]) for o in output])[-3:])\n",
    "print(\"part 2: \", p2)"
   ]
  },
  {
   "cell_type": "code",
   "execution_count": null,
   "id": "6ae54979",
   "metadata": {},
   "outputs": [],
   "source": []
  }
 ],
 "metadata": {
  "kernelspec": {
   "display_name": "Python 3 (ipykernel)",
   "language": "python",
   "name": "python3"
  },
  "language_info": {
   "codemirror_mode": {
    "name": "ipython",
    "version": 3
   },
   "file_extension": ".py",
   "mimetype": "text/x-python",
   "name": "python",
   "nbconvert_exporter": "python",
   "pygments_lexer": "ipython3",
   "version": "3.10.8"
  }
 },
 "nbformat": 4,
 "nbformat_minor": 5
}
