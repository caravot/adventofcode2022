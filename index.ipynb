{
 "cells": [
  {
   "cell_type": "code",
   "execution_count": 2,
   "id": "78e47561",
   "metadata": {},
   "outputs": [],
   "source": [
    "import pandas as pd\n",
    "import re\n",
    "import os"
   ]
  },
  {
   "cell_type": "code",
   "execution_count": 59,
   "id": "6ae54979",
   "metadata": {},
   "outputs": [
    {
     "name": "stdout",
     "output_type": "stream",
     "text": [
      "part 1: 15691\n",
      "part 2: 12989\n"
     ]
    }
   ],
   "source": [
    "## Day 2\n",
    "\n",
    "# part 1\n",
    "hands = { \n",
    "    'X': 1, 'A': 1, # rock: > scissor\n",
    "    'Y': 2, 'B': 2, # paper:  > rock\n",
    "    'Z': 3, 'C': 3  # scissor: > paper\n",
    "}\n",
    "win = 6\n",
    "draw = 3\n",
    "loss = 0\n",
    "\n",
    "with open('files/input2.txt') as f:\n",
    "    output = [o.split(' ') for o in f.read().split('\\n')]\n",
    "\n",
    "# a=opponent; b=me\n",
    "def winner(a, b):\n",
    "    if (a == 1 and  b == 3) or (a == 2 and b == 1) or (a == 3 and b == 2):\n",
    "        return loss + b\n",
    "    elif a == b:\n",
    "        return draw + b\n",
    "    else:\n",
    "        return win + b\n",
    "\n",
    "final = list(map(lambda turn: winner(hands[turn[0]], hands[turn[1]]), output))\n",
    "print('part 1:', sum(final))\n",
    "\n",
    "# part 2\n",
    "# x = loss\n",
    "# y = draw\n",
    "# z = win\n",
    "\n",
    "win_hand = {\n",
    "    hands['A']: hands['C'],\n",
    "    hands['B']: hands['A'],\n",
    "    hands['C']: hands['B']\n",
    "}\n",
    "win_hand = {\n",
    "    'A': 'C',\n",
    "    'B': 'A',\n",
    "    'C': 'B'\n",
    "}\n",
    "loss_hand = {\n",
    "    'C': 'A',\n",
    "    'A': 'B',\n",
    "    'B': 'C'\n",
    "}\n",
    "\n",
    "# a=opponent; b=me\n",
    "def winner(opp, result):\n",
    "    # win\n",
    "    if result == 'Z':\n",
    "        return win + hands[loss_hand[opp]]\n",
    "    # draw\n",
    "    elif result == 'Y':\n",
    "        return draw + hands[opp]\n",
    "    # loss\n",
    "    elif result == 'X':\n",
    "        return loss + hands[win_hand[opp]]\n",
    "\n",
    "# 4,1,7\n",
    "\n",
    "final = list(map(lambda turn: winner(turn[0], turn[1]), output))\n",
    "# print('final', final)\n",
    "print('part 2:', sum(final))"
   ]
  },
  {
   "cell_type": "code",
   "execution_count": 10,
   "id": "8b1f4162",
   "metadata": {},
   "outputs": [
    {
     "name": "stdout",
     "output_type": "stream",
     "text": [
      "part 1:  70296\n",
      "part 2:  205381\n"
     ]
    }
   ],
   "source": [
    "## Day 1\n",
    "with open('files/input1.txt') as f:\n",
    "    output = [o.split('\\n') for o in f.read().split('\\n\\n')]\n",
    "\n",
    "# part 1\n",
    "p1 = max([sum([int(o2) for o2 in o if len(o2)]) for o in output])\n",
    "print(\"part 1: \", p1)\n",
    "\n",
    "# part 1\n",
    "p2 = sum(sorted([sum([int(o2) for o2 in o if len(o2)]) for o in output])[-3:])\n",
    "print(\"part 2: \", p2)"
   ]
  }
 ],
 "metadata": {
  "kernelspec": {
   "display_name": "Python 3 (ipykernel)",
   "language": "python",
   "name": "python3"
  },
  "language_info": {
   "codemirror_mode": {
    "name": "ipython",
    "version": 3
   },
   "file_extension": ".py",
   "mimetype": "text/x-python",
   "name": "python",
   "nbconvert_exporter": "python",
   "pygments_lexer": "ipython3",
   "version": "3.10.8"
  }
 },
 "nbformat": 4,
 "nbformat_minor": 5
}
